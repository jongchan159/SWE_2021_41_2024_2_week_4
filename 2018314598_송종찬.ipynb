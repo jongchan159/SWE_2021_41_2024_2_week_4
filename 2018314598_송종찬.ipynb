{
  "nbformat": 4,
  "nbformat_minor": 0,
  "metadata": {
    "colab": {
      "provenance": [],
      "toc_visible": true
    },
    "kernelspec": {
      "name": "python3",
      "display_name": "Python 3"
    },
    "language_info": {
      "name": "python"
    }
  },
  "cells": [
    {
      "cell_type": "markdown",
      "source": [
        "## Task\n",
        "- Complete **isHappy** function following the description below\n",
        "\n",
        "### Happy Number\n",
        "Write an algorithm to determine if a number **n** is happy.\n",
        "\n",
        "A **happy number** is a number defined by the following process:\n",
        "\n",
        "* Starting with any positive integer, replace the number by the sum of the squares of its digits.\n",
        "* Repeat the process until the number equals 1 (where it will stay), or it **loops endlessly in a cycle** which does not include 1.\n",
        "* Those numbers for which this process **ends in 1** are happy.\n",
        "\n",
        "Return **true** if n is a happy number, and **false** if not.\n",
        "\n",
        "Constraints:\n",
        "1 <= n <= $2^{31}$ - 1"
      ],
      "metadata": {
        "id": "TV3Socqg8BVl"
      }
    },
    {
      "cell_type": "code",
      "execution_count": null,
      "metadata": {
        "id": "5FcxitVf5kdQ",
        "colab": {
          "base_uri": "https://localhost:8080/"
        },
        "outputId": "847db13a-cfc2-4ca1-cb89-ce40be4b71fd"
      },
      "outputs": [
        {
          "output_type": "stream",
          "name": "stdout",
          "text": [
            "True\n",
            "False\n",
            "True\n"
          ]
        }
      ],
      "source": [
        "def isHappy(n):\n",
        "  #완료조건은 길이가 1일 때 까지\n",
        "  #토큰값이 1이면 true\n",
        "  #같은 값이 한번이라도 다시 나오면(무한루프) false\n",
        "\n",
        "  sum = n # 새로운 n\n",
        "  current = 0\n",
        "  record = {sum} # 중복 검사를 위한 set\n",
        "\n",
        "  while 1:\n",
        "    digits = [int(digit) for digit in str(sum)] # 한자리수로 치환\n",
        "    sum = 0\n",
        "    for digit in digits:\n",
        "      sum += digit*digit\n",
        "\n",
        "    #제곱합이 1이면 true\n",
        "    if sum == 1:\n",
        "      return True\n",
        "    #이미 존재하면 false\n",
        "    if sum in record:\n",
        "      return False\n",
        "    #둘다 아니면 다시\n",
        "    record.add(sum)\n",
        "\n",
        "print(isHappy(19)) #True\n",
        "print(isHappy(2)) #False\n",
        "print(isHappy(7))"
      ]
    },
    {
      "cell_type": "markdown",
      "source": [
        "**Testcase 1.**\n",
        "\n",
        "**Input**: 19\n",
        "\n",
        "**Output**: True\n",
        "\n",
        "**Explanation**:\n",
        "\n",
        "$1^2 + 9^2 = 82$\n",
        "\n",
        "$8^2 + 2^2 = 68$\n",
        "\n",
        "$6^2 + 8^2 = 100$\n",
        "\n",
        "$1^2 + 0^2 + 0^2 = 1$"
      ],
      "metadata": {
        "id": "eRrh24Ognrqf"
      }
    },
    {
      "cell_type": "markdown",
      "source": [
        "**Testcase 2.**\n",
        "\n",
        "**Input**: 2\n",
        "\n",
        "**Output**: False"
      ],
      "metadata": {
        "id": "dE7YMY8qoPoj"
      }
    }
  ]
}